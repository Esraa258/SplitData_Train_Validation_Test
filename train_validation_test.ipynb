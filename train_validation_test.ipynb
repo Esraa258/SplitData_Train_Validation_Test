{
 "cells": [
  {
   "cell_type": "markdown",
   "id": "6823b14f",
   "metadata": {},
   "source": [
    "create a regression dataset and split it into the 3 core dataset types: train, validation, and test.\n",
    "\n",
    "\n",
    "1. Create a dataframe with features and target arrays from `make_regression`.\n",
    "2. Create a 60% Train / 20% Validation / 20% Test dataset group using the `train_test_split` method.\n",
    "3. Confirm the datasets are the correct size by outputing their shape.\n",
    "4. Save the three datasets to CSV"
   ]
  },
  {
   "cell_type": "code",
   "execution_count": 1,
   "id": "658cab56",
   "metadata": {},
   "outputs": [],
   "source": [
    "# import module train_test_split from sklearn\n",
    "\n",
    "import pandas as pd\n",
    "from sklearn.datasets import make_regression\n",
    "from sklearn.model_selection import train_test_split"
   ]
  },
  {
   "cell_type": "code",
   "execution_count": 2,
   "id": "8e5e8871",
   "metadata": {},
   "outputs": [],
   "source": [
    "# Creating a regression dataset with 1000 samples, 5 feature columns, 2 which are actually useful, and 1 target column\n",
    "# random_state=0 --> to ensure that the dataset will be consistent (ensure repeatability)\n",
    "\n",
    "regression_dataset = make_regression(\n",
    "    n_samples=1000, n_features=5, n_informative=2, n_targets=1, random_state=0\n",
    ")"
   ]
  },
  {
   "cell_type": "code",
   "execution_count": 3,
   "id": "eabe8e69",
   "metadata": {},
   "outputs": [],
   "source": [
    "# create pandas dataframe from the regression_dataset\n",
    "df = pd.DataFrame(regression_dataset[0])    # feature values\n",
    "df[\"target\"] = regression_dataset[1]        # target values   "
   ]
  },
  {
   "cell_type": "code",
   "execution_count": 4,
   "id": "9c0fa8c7",
   "metadata": {},
   "outputs": [
    {
     "data": {
      "text/html": [
       "<div>\n",
       "<style scoped>\n",
       "    .dataframe tbody tr th:only-of-type {\n",
       "        vertical-align: middle;\n",
       "    }\n",
       "\n",
       "    .dataframe tbody tr th {\n",
       "        vertical-align: top;\n",
       "    }\n",
       "\n",
       "    .dataframe thead th {\n",
       "        text-align: right;\n",
       "    }\n",
       "</style>\n",
       "<table border=\"1\" class=\"dataframe\">\n",
       "  <thead>\n",
       "    <tr style=\"text-align: right;\">\n",
       "      <th></th>\n",
       "      <th>0</th>\n",
       "      <th>1</th>\n",
       "      <th>2</th>\n",
       "      <th>3</th>\n",
       "      <th>4</th>\n",
       "      <th>target</th>\n",
       "    </tr>\n",
       "  </thead>\n",
       "  <tbody>\n",
       "    <tr>\n",
       "      <th>0</th>\n",
       "      <td>0.236225</td>\n",
       "      <td>-0.323289</td>\n",
       "      <td>-0.018429</td>\n",
       "      <td>-1.548471</td>\n",
       "      <td>1.311427</td>\n",
       "      <td>70.618083</td>\n",
       "    </tr>\n",
       "    <tr>\n",
       "      <th>1</th>\n",
       "      <td>-0.801497</td>\n",
       "      <td>0.271170</td>\n",
       "      <td>-0.525641</td>\n",
       "      <td>-0.887780</td>\n",
       "      <td>0.936399</td>\n",
       "      <td>52.757870</td>\n",
       "    </tr>\n",
       "    <tr>\n",
       "      <th>2</th>\n",
       "      <td>0.687881</td>\n",
       "      <td>0.417044</td>\n",
       "      <td>-1.203735</td>\n",
       "      <td>0.498727</td>\n",
       "      <td>-0.737932</td>\n",
       "      <td>-43.728456</td>\n",
       "    </tr>\n",
       "    <tr>\n",
       "      <th>3</th>\n",
       "      <td>-0.679593</td>\n",
       "      <td>-1.063433</td>\n",
       "      <td>-1.797456</td>\n",
       "      <td>0.913202</td>\n",
       "      <td>2.211304</td>\n",
       "      <td>156.835125</td>\n",
       "    </tr>\n",
       "    <tr>\n",
       "      <th>4</th>\n",
       "      <td>0.096479</td>\n",
       "      <td>-0.507060</td>\n",
       "      <td>0.522083</td>\n",
       "      <td>0.155794</td>\n",
       "      <td>1.520004</td>\n",
       "      <td>102.748706</td>\n",
       "    </tr>\n",
       "  </tbody>\n",
       "</table>\n",
       "</div>"
      ],
      "text/plain": [
       "          0         1         2         3         4      target\n",
       "0  0.236225 -0.323289 -0.018429 -1.548471  1.311427   70.618083\n",
       "1 -0.801497  0.271170 -0.525641 -0.887780  0.936399   52.757870\n",
       "2  0.687881  0.417044 -1.203735  0.498727 -0.737932  -43.728456\n",
       "3 -0.679593 -1.063433 -1.797456  0.913202  2.211304  156.835125\n",
       "4  0.096479 -0.507060  0.522083  0.155794  1.520004  102.748706"
      ]
     },
     "execution_count": 4,
     "metadata": {},
     "output_type": "execute_result"
    }
   ],
   "source": [
    "df.head()"
   ]
  },
  {
   "cell_type": "code",
   "execution_count": null,
   "id": "01b3c1c2",
   "metadata": {},
   "outputs": [],
   "source": [
    "# create 2 dataframes, one is the training and the other is the test\n",
    "# split dataframe with test_size parameter\n",
    "# test_size=0.2 ---> 20% of the data\n",
    "\n",
    "# random_state=0 --> to ensure repeatability"
   ]
  },
  {
   "cell_type": "code",
   "execution_count": 5,
   "id": "b305a45f",
   "metadata": {},
   "outputs": [],
   "source": [
    "# Create a train: 0.8 | test: 0.2 ratio dataset\n",
    "df_train, df_test = train_test_split(df, test_size=0.2, random_state=0)\n",
    "\n",
    "#split the train dataset again to create a new train dataset and the validation dataset\n",
    "# to get 0.2 of our original dataset size for validation, we'll need to set the size to 0.25 for our train dataset size,\n",
    "# which is 0.8 of the original.\n",
    "# 25% of 80% = 20%\n",
    "\n",
    "# Create a train: 0.6 | validation: 0.2 ratio dataset\n",
    "df_train, df_val = train_test_split(df_train, test_size=0.25, random_state=0)\n",
    "\n",
    "# Final dataset sizes: train: 0.6, validation: 0.2, test: 0.2,"
   ]
  },
  {
   "cell_type": "code",
   "execution_count": 6,
   "id": "6e1bf795",
   "metadata": {},
   "outputs": [
    {
     "name": "stdout",
     "output_type": "stream",
     "text": [
      "Train: (600, 6)\n",
      "Validation: (200, 6)\n",
      "Test: (200, 6)\n"
     ]
    }
   ],
   "source": [
    "# Output the size of each dataset to confirm the size of train/validation/test\n",
    "print(f\"Train: {df_train.shape}\")\n",
    "print(f\"Validation: {df_val.shape}\")\n",
    "print(f\"Test: {df_test.shape}\")"
   ]
  },
  {
   "cell_type": "code",
   "execution_count": 8,
   "id": "ad61f714",
   "metadata": {},
   "outputs": [],
   "source": [
    "# Output all datasets to csv\n",
    "df_train.to_csv(\"train.csv\", index=False)\n",
    "df_val.to_csv(\"validation.csv\", index=False)\n",
    "df_test.to_csv(\"test.csv\", index=False)\n",
    "\n",
    "# index=False  --> to make sure we don't save any of our indexes to the dataset"
   ]
  }
 ],
 "metadata": {
  "kernelspec": {
   "display_name": "Python 3 (ipykernel)",
   "language": "python",
   "name": "python3"
  },
  "language_info": {
   "codemirror_mode": {
    "name": "ipython",
    "version": 3
   },
   "file_extension": ".py",
   "mimetype": "text/x-python",
   "name": "python",
   "nbconvert_exporter": "python",
   "pygments_lexer": "ipython3",
   "version": "3.11.3"
  }
 },
 "nbformat": 4,
 "nbformat_minor": 5
}
